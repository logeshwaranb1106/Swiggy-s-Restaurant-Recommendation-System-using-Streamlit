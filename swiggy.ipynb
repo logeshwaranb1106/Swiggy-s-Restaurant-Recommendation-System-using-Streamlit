{
 "cells": [
  {
   "cell_type": "code",
   "execution_count": 2,
   "id": "55725f4d",
   "metadata": {},
   "outputs": [
    {
     "data": {
      "text/html": [
       "<div>\n",
       "<style scoped>\n",
       "    .dataframe tbody tr th:only-of-type {\n",
       "        vertical-align: middle;\n",
       "    }\n",
       "\n",
       "    .dataframe tbody tr th {\n",
       "        vertical-align: top;\n",
       "    }\n",
       "\n",
       "    .dataframe thead th {\n",
       "        text-align: right;\n",
       "    }\n",
       "</style>\n",
       "<table border=\"1\" class=\"dataframe\">\n",
       "  <thead>\n",
       "    <tr style=\"text-align: right;\">\n",
       "      <th></th>\n",
       "      <th>id</th>\n",
       "      <th>name</th>\n",
       "      <th>city</th>\n",
       "      <th>rating</th>\n",
       "      <th>rating_count</th>\n",
       "      <th>cost</th>\n",
       "      <th>cuisine</th>\n",
       "      <th>lic_no</th>\n",
       "      <th>link</th>\n",
       "      <th>address</th>\n",
       "      <th>menu</th>\n",
       "    </tr>\n",
       "  </thead>\n",
       "  <tbody>\n",
       "    <tr>\n",
       "      <th>0</th>\n",
       "      <td>567335</td>\n",
       "      <td>AB FOODS POINT</td>\n",
       "      <td>Abohar</td>\n",
       "      <td>--</td>\n",
       "      <td>Too Few Ratings</td>\n",
       "      <td>₹ 200</td>\n",
       "      <td>Beverages,Pizzas</td>\n",
       "      <td>22122652000138</td>\n",
       "      <td>https://www.swiggy.com/restaurants/ab-foods-po...</td>\n",
       "      <td>AB FOODS POINT, NEAR RISHI NARANG DENTAL CLINI...</td>\n",
       "      <td>Menu/567335.json</td>\n",
       "    </tr>\n",
       "    <tr>\n",
       "      <th>1</th>\n",
       "      <td>531342</td>\n",
       "      <td>Janta Sweet House</td>\n",
       "      <td>Abohar</td>\n",
       "      <td>4.4</td>\n",
       "      <td>50+ ratings</td>\n",
       "      <td>₹ 200</td>\n",
       "      <td>Sweets,Bakery</td>\n",
       "      <td>12117201000112</td>\n",
       "      <td>https://www.swiggy.com/restaurants/janta-sweet...</td>\n",
       "      <td>Janta Sweet House, Bazar No.9, Circullar Road,...</td>\n",
       "      <td>Menu/531342.json</td>\n",
       "    </tr>\n",
       "    <tr>\n",
       "      <th>2</th>\n",
       "      <td>158203</td>\n",
       "      <td>theka coffee desi</td>\n",
       "      <td>Abohar</td>\n",
       "      <td>3.8</td>\n",
       "      <td>100+ ratings</td>\n",
       "      <td>₹ 100</td>\n",
       "      <td>Beverages</td>\n",
       "      <td>22121652000190</td>\n",
       "      <td>https://www.swiggy.com/restaurants/theka-coffe...</td>\n",
       "      <td>theka coffee desi, sahtiya sadan road city</td>\n",
       "      <td>Menu/158203.json</td>\n",
       "    </tr>\n",
       "    <tr>\n",
       "      <th>3</th>\n",
       "      <td>187912</td>\n",
       "      <td>Singh Hut</td>\n",
       "      <td>Abohar</td>\n",
       "      <td>3.7</td>\n",
       "      <td>20+ ratings</td>\n",
       "      <td>₹ 250</td>\n",
       "      <td>Fast Food,Indian</td>\n",
       "      <td>22119652000167</td>\n",
       "      <td>https://www.swiggy.com/restaurants/singh-hut-n...</td>\n",
       "      <td>Singh Hut, CIRCULAR ROAD NEAR NEHRU PARK ABOHAR</td>\n",
       "      <td>Menu/187912.json</td>\n",
       "    </tr>\n",
       "    <tr>\n",
       "      <th>4</th>\n",
       "      <td>543530</td>\n",
       "      <td>GRILL MASTERS</td>\n",
       "      <td>Abohar</td>\n",
       "      <td>--</td>\n",
       "      <td>Too Few Ratings</td>\n",
       "      <td>₹ 250</td>\n",
       "      <td>Italian-American,Fast Food</td>\n",
       "      <td>12122201000053</td>\n",
       "      <td>https://www.swiggy.com/restaurants/grill-maste...</td>\n",
       "      <td>GRILL MASTERS, ADA Heights, Abohar - Hanumanga...</td>\n",
       "      <td>Menu/543530.json</td>\n",
       "    </tr>\n",
       "    <tr>\n",
       "      <th>...</th>\n",
       "      <td>...</td>\n",
       "      <td>...</td>\n",
       "      <td>...</td>\n",
       "      <td>...</td>\n",
       "      <td>...</td>\n",
       "      <td>...</td>\n",
       "      <td>...</td>\n",
       "      <td>...</td>\n",
       "      <td>...</td>\n",
       "      <td>...</td>\n",
       "      <td>...</td>\n",
       "    </tr>\n",
       "    <tr>\n",
       "      <th>148536</th>\n",
       "      <td>553122</td>\n",
       "      <td>The Food Delight</td>\n",
       "      <td>Yavatmal</td>\n",
       "      <td>--</td>\n",
       "      <td>Too Few Ratings</td>\n",
       "      <td>₹ 200</td>\n",
       "      <td>Fast Food,Snacks</td>\n",
       "      <td>21522053000452</td>\n",
       "      <td>https://www.swiggy.com/restaurants/the-food-de...</td>\n",
       "      <td>The Food Delight, 94MC+X35, New Singhania Naga...</td>\n",
       "      <td>Menu/553122.json</td>\n",
       "    </tr>\n",
       "    <tr>\n",
       "      <th>148537</th>\n",
       "      <td>562647</td>\n",
       "      <td>MAITRI FOODS &amp; BEVERAGES</td>\n",
       "      <td>Yavatmal</td>\n",
       "      <td>--</td>\n",
       "      <td>Too Few Ratings</td>\n",
       "      <td>₹ 300</td>\n",
       "      <td>Pizzas</td>\n",
       "      <td>license</td>\n",
       "      <td>https://www.swiggy.com/restaurants/maitri-food...</td>\n",
       "      <td>MAITRI FOODS &amp; BEVERAGES, POLIC MITRYA SOCIETY...</td>\n",
       "      <td>Menu/562647.json</td>\n",
       "    </tr>\n",
       "    <tr>\n",
       "      <th>148538</th>\n",
       "      <td>559435</td>\n",
       "      <td>Cafe Bella Ciao</td>\n",
       "      <td>Yavatmal</td>\n",
       "      <td>--</td>\n",
       "      <td>Too Few Ratings</td>\n",
       "      <td>₹ 300</td>\n",
       "      <td>Fast Food,Snacks</td>\n",
       "      <td>21522251000378</td>\n",
       "      <td>https://www.swiggy.com/restaurants/cafe-bella-...</td>\n",
       "      <td>Cafe Bella Ciao, SHOP NO 2 NEMANI MARKET SBI S...</td>\n",
       "      <td>Menu/559435.json</td>\n",
       "    </tr>\n",
       "    <tr>\n",
       "      <th>148539</th>\n",
       "      <td>418989</td>\n",
       "      <td>GRILL ZILLA</td>\n",
       "      <td>Yavatmal</td>\n",
       "      <td>--</td>\n",
       "      <td>Too Few Ratings</td>\n",
       "      <td>₹ 250</td>\n",
       "      <td>Continental</td>\n",
       "      <td>21521251000241</td>\n",
       "      <td>https://www.swiggy.com/restaurants/grill-zilla...</td>\n",
       "      <td>GRILL ZILLA, SHO NO 2/6, POSTEL GROUND CHOWPAT...</td>\n",
       "      <td>Menu/418989.json</td>\n",
       "    </tr>\n",
       "    <tr>\n",
       "      <th>148540</th>\n",
       "      <td>447770</td>\n",
       "      <td>Lazeez kitchen</td>\n",
       "      <td>Yavatmal</td>\n",
       "      <td>--</td>\n",
       "      <td>Too Few Ratings</td>\n",
       "      <td>₹ 200</td>\n",
       "      <td>Pizzas</td>\n",
       "      <td>21521251000634</td>\n",
       "      <td>https://www.swiggy.com/restaurants/lazeez-kitc...</td>\n",
       "      <td>Lazeez kitchen, 94G3+2RR, Wadgaon, Yavatmal, M...</td>\n",
       "      <td>Menu/447770.json</td>\n",
       "    </tr>\n",
       "  </tbody>\n",
       "</table>\n",
       "<p>148541 rows × 11 columns</p>\n",
       "</div>"
      ],
      "text/plain": [
       "            id                      name      city rating     rating_count  \\\n",
       "0       567335            AB FOODS POINT    Abohar     --  Too Few Ratings   \n",
       "1       531342         Janta Sweet House    Abohar    4.4      50+ ratings   \n",
       "2       158203         theka coffee desi    Abohar    3.8     100+ ratings   \n",
       "3       187912                 Singh Hut    Abohar    3.7      20+ ratings   \n",
       "4       543530             GRILL MASTERS    Abohar     --  Too Few Ratings   \n",
       "...        ...                       ...       ...    ...              ...   \n",
       "148536  553122          The Food Delight  Yavatmal     --  Too Few Ratings   \n",
       "148537  562647  MAITRI FOODS & BEVERAGES  Yavatmal     --  Too Few Ratings   \n",
       "148538  559435           Cafe Bella Ciao  Yavatmal     --  Too Few Ratings   \n",
       "148539  418989               GRILL ZILLA  Yavatmal     --  Too Few Ratings   \n",
       "148540  447770            Lazeez kitchen  Yavatmal     --  Too Few Ratings   \n",
       "\n",
       "         cost                     cuisine          lic_no  \\\n",
       "0       ₹ 200            Beverages,Pizzas  22122652000138   \n",
       "1       ₹ 200               Sweets,Bakery  12117201000112   \n",
       "2       ₹ 100                   Beverages  22121652000190   \n",
       "3       ₹ 250            Fast Food,Indian  22119652000167   \n",
       "4       ₹ 250  Italian-American,Fast Food  12122201000053   \n",
       "...       ...                         ...             ...   \n",
       "148536  ₹ 200            Fast Food,Snacks  21522053000452   \n",
       "148537  ₹ 300                      Pizzas         license   \n",
       "148538  ₹ 300            Fast Food,Snacks  21522251000378   \n",
       "148539  ₹ 250                 Continental  21521251000241   \n",
       "148540  ₹ 200                      Pizzas  21521251000634   \n",
       "\n",
       "                                                     link  \\\n",
       "0       https://www.swiggy.com/restaurants/ab-foods-po...   \n",
       "1       https://www.swiggy.com/restaurants/janta-sweet...   \n",
       "2       https://www.swiggy.com/restaurants/theka-coffe...   \n",
       "3       https://www.swiggy.com/restaurants/singh-hut-n...   \n",
       "4       https://www.swiggy.com/restaurants/grill-maste...   \n",
       "...                                                   ...   \n",
       "148536  https://www.swiggy.com/restaurants/the-food-de...   \n",
       "148537  https://www.swiggy.com/restaurants/maitri-food...   \n",
       "148538  https://www.swiggy.com/restaurants/cafe-bella-...   \n",
       "148539  https://www.swiggy.com/restaurants/grill-zilla...   \n",
       "148540  https://www.swiggy.com/restaurants/lazeez-kitc...   \n",
       "\n",
       "                                                  address              menu  \n",
       "0       AB FOODS POINT, NEAR RISHI NARANG DENTAL CLINI...  Menu/567335.json  \n",
       "1       Janta Sweet House, Bazar No.9, Circullar Road,...  Menu/531342.json  \n",
       "2              theka coffee desi, sahtiya sadan road city  Menu/158203.json  \n",
       "3         Singh Hut, CIRCULAR ROAD NEAR NEHRU PARK ABOHAR  Menu/187912.json  \n",
       "4       GRILL MASTERS, ADA Heights, Abohar - Hanumanga...  Menu/543530.json  \n",
       "...                                                   ...               ...  \n",
       "148536  The Food Delight, 94MC+X35, New Singhania Naga...  Menu/553122.json  \n",
       "148537  MAITRI FOODS & BEVERAGES, POLIC MITRYA SOCIETY...  Menu/562647.json  \n",
       "148538  Cafe Bella Ciao, SHOP NO 2 NEMANI MARKET SBI S...  Menu/559435.json  \n",
       "148539  GRILL ZILLA, SHO NO 2/6, POSTEL GROUND CHOWPAT...  Menu/418989.json  \n",
       "148540  Lazeez kitchen, 94G3+2RR, Wadgaon, Yavatmal, M...  Menu/447770.json  \n",
       "\n",
       "[148541 rows x 11 columns]"
      ]
     },
     "execution_count": 2,
     "metadata": {},
     "output_type": "execute_result"
    }
   ],
   "source": [
    "import pandas as pd\n",
    "df=pd.read_csv(r'D:\\GuviProject4\\swiggy.csv')\n",
    "df"
   ]
  },
  {
   "cell_type": "code",
   "execution_count": 3,
   "id": "f0837b48",
   "metadata": {},
   "outputs": [
    {
     "name": "stdout",
     "output_type": "stream",
     "text": [
      "<class 'pandas.core.frame.DataFrame'>\n",
      "RangeIndex: 148541 entries, 0 to 148540\n",
      "Data columns (total 11 columns):\n",
      " #   Column        Non-Null Count   Dtype \n",
      "---  ------        --------------   ----- \n",
      " 0   id            148541 non-null  int64 \n",
      " 1   name          148455 non-null  object\n",
      " 2   city          148541 non-null  object\n",
      " 3   rating        148455 non-null  object\n",
      " 4   rating_count  148455 non-null  object\n",
      " 5   cost          148410 non-null  object\n",
      " 6   cuisine       148442 non-null  object\n",
      " 7   lic_no        148312 non-null  object\n",
      " 8   link          148541 non-null  object\n",
      " 9   address       148455 non-null  object\n",
      " 10  menu          148541 non-null  object\n",
      "dtypes: int64(1), object(10)\n",
      "memory usage: 12.5+ MB\n"
     ]
    }
   ],
   "source": [
    "df.info()"
   ]
  },
  {
   "cell_type": "code",
   "execution_count": 4,
   "id": "bed79a2e",
   "metadata": {},
   "outputs": [],
   "source": [
    "df.drop(columns=['id','lic_no','link','address','menu'],inplace=True)"
   ]
  },
  {
   "cell_type": "code",
   "execution_count": 9,
   "id": "27f2bbe7",
   "metadata": {},
   "outputs": [
    {
     "data": {
      "text/plain": [
       "0"
      ]
     },
     "execution_count": 9,
     "metadata": {},
     "output_type": "execute_result"
    }
   ],
   "source": [
    "sum(df.duplicated())"
   ]
  },
  {
   "cell_type": "code",
   "execution_count": null,
   "id": "c2b9b343",
   "metadata": {},
   "outputs": [],
   "source": [
    "df.drop_duplicates(inplace=True)"
   ]
  },
  {
   "cell_type": "code",
   "execution_count": 10,
   "id": "1048dd46",
   "metadata": {},
   "outputs": [
    {
     "data": {
      "text/html": [
       "<div>\n",
       "<style scoped>\n",
       "    .dataframe tbody tr th:only-of-type {\n",
       "        vertical-align: middle;\n",
       "    }\n",
       "\n",
       "    .dataframe tbody tr th {\n",
       "        vertical-align: top;\n",
       "    }\n",
       "\n",
       "    .dataframe thead th {\n",
       "        text-align: right;\n",
       "    }\n",
       "</style>\n",
       "<table border=\"1\" class=\"dataframe\">\n",
       "  <thead>\n",
       "    <tr style=\"text-align: right;\">\n",
       "      <th></th>\n",
       "      <th>index</th>\n",
       "      <th>name</th>\n",
       "      <th>city</th>\n",
       "      <th>rating</th>\n",
       "      <th>rating_count</th>\n",
       "      <th>cost</th>\n",
       "      <th>cuisine</th>\n",
       "    </tr>\n",
       "  </thead>\n",
       "  <tbody>\n",
       "    <tr>\n",
       "      <th>0</th>\n",
       "      <td>0</td>\n",
       "      <td>AB FOODS POINT</td>\n",
       "      <td>Abohar</td>\n",
       "      <td>--</td>\n",
       "      <td>Too Few Ratings</td>\n",
       "      <td>₹ 200</td>\n",
       "      <td>Beverages,Pizzas</td>\n",
       "    </tr>\n",
       "    <tr>\n",
       "      <th>1</th>\n",
       "      <td>1</td>\n",
       "      <td>Janta Sweet House</td>\n",
       "      <td>Abohar</td>\n",
       "      <td>4.4</td>\n",
       "      <td>50+ ratings</td>\n",
       "      <td>₹ 200</td>\n",
       "      <td>Sweets,Bakery</td>\n",
       "    </tr>\n",
       "    <tr>\n",
       "      <th>2</th>\n",
       "      <td>2</td>\n",
       "      <td>theka coffee desi</td>\n",
       "      <td>Abohar</td>\n",
       "      <td>3.8</td>\n",
       "      <td>100+ ratings</td>\n",
       "      <td>₹ 100</td>\n",
       "      <td>Beverages</td>\n",
       "    </tr>\n",
       "    <tr>\n",
       "      <th>3</th>\n",
       "      <td>3</td>\n",
       "      <td>Singh Hut</td>\n",
       "      <td>Abohar</td>\n",
       "      <td>3.7</td>\n",
       "      <td>20+ ratings</td>\n",
       "      <td>₹ 250</td>\n",
       "      <td>Fast Food,Indian</td>\n",
       "    </tr>\n",
       "    <tr>\n",
       "      <th>4</th>\n",
       "      <td>4</td>\n",
       "      <td>GRILL MASTERS</td>\n",
       "      <td>Abohar</td>\n",
       "      <td>--</td>\n",
       "      <td>Too Few Ratings</td>\n",
       "      <td>₹ 250</td>\n",
       "      <td>Italian-American,Fast Food</td>\n",
       "    </tr>\n",
       "    <tr>\n",
       "      <th>...</th>\n",
       "      <td>...</td>\n",
       "      <td>...</td>\n",
       "      <td>...</td>\n",
       "      <td>...</td>\n",
       "      <td>...</td>\n",
       "      <td>...</td>\n",
       "      <td>...</td>\n",
       "    </tr>\n",
       "    <tr>\n",
       "      <th>148501</th>\n",
       "      <td>148536</td>\n",
       "      <td>The Food Delight</td>\n",
       "      <td>Yavatmal</td>\n",
       "      <td>--</td>\n",
       "      <td>Too Few Ratings</td>\n",
       "      <td>₹ 200</td>\n",
       "      <td>Fast Food,Snacks</td>\n",
       "    </tr>\n",
       "    <tr>\n",
       "      <th>148502</th>\n",
       "      <td>148537</td>\n",
       "      <td>MAITRI FOODS &amp; BEVERAGES</td>\n",
       "      <td>Yavatmal</td>\n",
       "      <td>--</td>\n",
       "      <td>Too Few Ratings</td>\n",
       "      <td>₹ 300</td>\n",
       "      <td>Pizzas</td>\n",
       "    </tr>\n",
       "    <tr>\n",
       "      <th>148503</th>\n",
       "      <td>148538</td>\n",
       "      <td>Cafe Bella Ciao</td>\n",
       "      <td>Yavatmal</td>\n",
       "      <td>--</td>\n",
       "      <td>Too Few Ratings</td>\n",
       "      <td>₹ 300</td>\n",
       "      <td>Fast Food,Snacks</td>\n",
       "    </tr>\n",
       "    <tr>\n",
       "      <th>148504</th>\n",
       "      <td>148539</td>\n",
       "      <td>GRILL ZILLA</td>\n",
       "      <td>Yavatmal</td>\n",
       "      <td>--</td>\n",
       "      <td>Too Few Ratings</td>\n",
       "      <td>₹ 250</td>\n",
       "      <td>Continental</td>\n",
       "    </tr>\n",
       "    <tr>\n",
       "      <th>148505</th>\n",
       "      <td>148540</td>\n",
       "      <td>Lazeez kitchen</td>\n",
       "      <td>Yavatmal</td>\n",
       "      <td>--</td>\n",
       "      <td>Too Few Ratings</td>\n",
       "      <td>₹ 200</td>\n",
       "      <td>Pizzas</td>\n",
       "    </tr>\n",
       "  </tbody>\n",
       "</table>\n",
       "<p>148506 rows × 7 columns</p>\n",
       "</div>"
      ],
      "text/plain": [
       "         index                      name      city rating     rating_count  \\\n",
       "0            0            AB FOODS POINT    Abohar     --  Too Few Ratings   \n",
       "1            1         Janta Sweet House    Abohar    4.4      50+ ratings   \n",
       "2            2         theka coffee desi    Abohar    3.8     100+ ratings   \n",
       "3            3                 Singh Hut    Abohar    3.7      20+ ratings   \n",
       "4            4             GRILL MASTERS    Abohar     --  Too Few Ratings   \n",
       "...        ...                       ...       ...    ...              ...   \n",
       "148501  148536          The Food Delight  Yavatmal     --  Too Few Ratings   \n",
       "148502  148537  MAITRI FOODS & BEVERAGES  Yavatmal     --  Too Few Ratings   \n",
       "148503  148538           Cafe Bella Ciao  Yavatmal     --  Too Few Ratings   \n",
       "148504  148539               GRILL ZILLA  Yavatmal     --  Too Few Ratings   \n",
       "148505  148540            Lazeez kitchen  Yavatmal     --  Too Few Ratings   \n",
       "\n",
       "         cost                     cuisine  \n",
       "0       ₹ 200            Beverages,Pizzas  \n",
       "1       ₹ 200               Sweets,Bakery  \n",
       "2       ₹ 100                   Beverages  \n",
       "3       ₹ 250            Fast Food,Indian  \n",
       "4       ₹ 250  Italian-American,Fast Food  \n",
       "...       ...                         ...  \n",
       "148501  ₹ 200            Fast Food,Snacks  \n",
       "148502  ₹ 300                      Pizzas  \n",
       "148503  ₹ 300            Fast Food,Snacks  \n",
       "148504  ₹ 250                 Continental  \n",
       "148505  ₹ 200                      Pizzas  \n",
       "\n",
       "[148506 rows x 7 columns]"
      ]
     },
     "execution_count": 10,
     "metadata": {},
     "output_type": "execute_result"
    }
   ],
   "source": [
    "df.reset_index()"
   ]
  },
  {
   "cell_type": "code",
   "execution_count": 14,
   "id": "668f304f",
   "metadata": {},
   "outputs": [],
   "source": [
    "df.to_csv('duplicatedremoved.csv')"
   ]
  },
  {
   "cell_type": "code",
   "execution_count": 3,
   "id": "eac57d29",
   "metadata": {},
   "outputs": [],
   "source": [
    "import pandas as pd\n",
    "df=pd.read_csv(r'D:\\GuviProject4\\duplicatedremoved.csv')"
   ]
  },
  {
   "cell_type": "code",
   "execution_count": 5,
   "id": "e7907608",
   "metadata": {},
   "outputs": [],
   "source": [
    "df.drop(['Unnamed: 0'],axis=1,inplace=True)"
   ]
  },
  {
   "cell_type": "code",
   "execution_count": 9,
   "id": "613ff1f6",
   "metadata": {},
   "outputs": [
    {
     "data": {
      "text/html": [
       "<div>\n",
       "<style scoped>\n",
       "    .dataframe tbody tr th:only-of-type {\n",
       "        vertical-align: middle;\n",
       "    }\n",
       "\n",
       "    .dataframe tbody tr th {\n",
       "        vertical-align: top;\n",
       "    }\n",
       "\n",
       "    .dataframe thead th {\n",
       "        text-align: right;\n",
       "    }\n",
       "</style>\n",
       "<table border=\"1\" class=\"dataframe\">\n",
       "  <thead>\n",
       "    <tr style=\"text-align: right;\">\n",
       "      <th></th>\n",
       "      <th>name</th>\n",
       "      <th>city</th>\n",
       "      <th>rating</th>\n",
       "      <th>rating_count</th>\n",
       "      <th>cost</th>\n",
       "      <th>cuisine</th>\n",
       "    </tr>\n",
       "  </thead>\n",
       "  <tbody>\n",
       "    <tr>\n",
       "      <th>0</th>\n",
       "      <td>AB FOODS POINT</td>\n",
       "      <td>Abohar</td>\n",
       "      <td>--</td>\n",
       "      <td>Too Few Ratings</td>\n",
       "      <td>₹ 200</td>\n",
       "      <td>Beverages,Pizzas</td>\n",
       "    </tr>\n",
       "    <tr>\n",
       "      <th>1</th>\n",
       "      <td>Janta Sweet House</td>\n",
       "      <td>Abohar</td>\n",
       "      <td>4.4</td>\n",
       "      <td>50+ ratings</td>\n",
       "      <td>₹ 200</td>\n",
       "      <td>Sweets,Bakery</td>\n",
       "    </tr>\n",
       "    <tr>\n",
       "      <th>2</th>\n",
       "      <td>theka coffee desi</td>\n",
       "      <td>Abohar</td>\n",
       "      <td>3.8</td>\n",
       "      <td>100+ ratings</td>\n",
       "      <td>₹ 100</td>\n",
       "      <td>Beverages</td>\n",
       "    </tr>\n",
       "    <tr>\n",
       "      <th>3</th>\n",
       "      <td>Singh Hut</td>\n",
       "      <td>Abohar</td>\n",
       "      <td>3.7</td>\n",
       "      <td>20+ ratings</td>\n",
       "      <td>₹ 250</td>\n",
       "      <td>Fast Food,Indian</td>\n",
       "    </tr>\n",
       "    <tr>\n",
       "      <th>4</th>\n",
       "      <td>GRILL MASTERS</td>\n",
       "      <td>Abohar</td>\n",
       "      <td>--</td>\n",
       "      <td>Too Few Ratings</td>\n",
       "      <td>₹ 250</td>\n",
       "      <td>Italian-American,Fast Food</td>\n",
       "    </tr>\n",
       "  </tbody>\n",
       "</table>\n",
       "</div>"
      ],
      "text/plain": [
       "                name    city rating     rating_count   cost  \\\n",
       "0     AB FOODS POINT  Abohar     --  Too Few Ratings  ₹ 200   \n",
       "1  Janta Sweet House  Abohar    4.4      50+ ratings  ₹ 200   \n",
       "2  theka coffee desi  Abohar    3.8     100+ ratings  ₹ 100   \n",
       "3          Singh Hut  Abohar    3.7      20+ ratings  ₹ 250   \n",
       "4      GRILL MASTERS  Abohar     --  Too Few Ratings  ₹ 250   \n",
       "\n",
       "                      cuisine  \n",
       "0            Beverages,Pizzas  \n",
       "1               Sweets,Bakery  \n",
       "2                   Beverages  \n",
       "3            Fast Food,Indian  \n",
       "4  Italian-American,Fast Food  "
      ]
     },
     "execution_count": 9,
     "metadata": {},
     "output_type": "execute_result"
    }
   ],
   "source": [
    "df.head()"
   ]
  },
  {
   "cell_type": "code",
   "execution_count": 22,
   "id": "7f674681",
   "metadata": {},
   "outputs": [],
   "source": [
    "df['main_city']=df['city'].apply(lambda x: x.split(',')[-1] if len(x.split(','))>1 else None)"
   ]
  },
  {
   "cell_type": "code",
   "execution_count": 27,
   "id": "4b611664",
   "metadata": {},
   "outputs": [],
   "source": [
    "df['city']=df['city'].apply(lambda x: ','.join(x.split(',')[:-1]).strip() if len(x.split(','))>1 else x)"
   ]
  },
  {
   "cell_type": "code",
   "execution_count": 40,
   "id": "00151860",
   "metadata": {},
   "outputs": [],
   "source": [
    "df.to_csv('last.csv',index=False)"
   ]
  },
  {
   "cell_type": "code",
   "execution_count": 110,
   "id": "44dd2e9f",
   "metadata": {},
   "outputs": [],
   "source": [
    "import pandas as pd\n",
    "df=pd.read_csv(r'D:\\GuviProject4\\last.csv')"
   ]
  },
  {
   "cell_type": "code",
   "execution_count": 111,
   "id": "669183ed",
   "metadata": {},
   "outputs": [],
   "source": [
    "df['cost']=df['cost'].str.replace('₹','')"
   ]
  },
  {
   "cell_type": "code",
   "execution_count": 112,
   "id": "b234ff11",
   "metadata": {},
   "outputs": [
    {
     "data": {
      "text/html": [
       "<div>\n",
       "<style scoped>\n",
       "    .dataframe tbody tr th:only-of-type {\n",
       "        vertical-align: middle;\n",
       "    }\n",
       "\n",
       "    .dataframe tbody tr th {\n",
       "        vertical-align: top;\n",
       "    }\n",
       "\n",
       "    .dataframe thead th {\n",
       "        text-align: right;\n",
       "    }\n",
       "</style>\n",
       "<table border=\"1\" class=\"dataframe\">\n",
       "  <thead>\n",
       "    <tr style=\"text-align: right;\">\n",
       "      <th></th>\n",
       "      <th>name</th>\n",
       "      <th>city</th>\n",
       "      <th>rating</th>\n",
       "      <th>rating_count</th>\n",
       "      <th>cost</th>\n",
       "      <th>cuisine</th>\n",
       "      <th>main_city</th>\n",
       "    </tr>\n",
       "  </thead>\n",
       "  <tbody>\n",
       "    <tr>\n",
       "      <th>0</th>\n",
       "      <td>AB FOODS POINT</td>\n",
       "      <td>Abohar</td>\n",
       "      <td>--</td>\n",
       "      <td>Too Few Ratings</td>\n",
       "      <td>200</td>\n",
       "      <td>Beverages,Pizzas</td>\n",
       "      <td>NaN</td>\n",
       "    </tr>\n",
       "    <tr>\n",
       "      <th>1</th>\n",
       "      <td>Janta Sweet House</td>\n",
       "      <td>Abohar</td>\n",
       "      <td>4.4</td>\n",
       "      <td>50+ ratings</td>\n",
       "      <td>200</td>\n",
       "      <td>Sweets,Bakery</td>\n",
       "      <td>NaN</td>\n",
       "    </tr>\n",
       "    <tr>\n",
       "      <th>2</th>\n",
       "      <td>theka coffee desi</td>\n",
       "      <td>Abohar</td>\n",
       "      <td>3.8</td>\n",
       "      <td>100+ ratings</td>\n",
       "      <td>100</td>\n",
       "      <td>Beverages</td>\n",
       "      <td>NaN</td>\n",
       "    </tr>\n",
       "    <tr>\n",
       "      <th>3</th>\n",
       "      <td>Singh Hut</td>\n",
       "      <td>Abohar</td>\n",
       "      <td>3.7</td>\n",
       "      <td>20+ ratings</td>\n",
       "      <td>250</td>\n",
       "      <td>Fast Food,Indian</td>\n",
       "      <td>NaN</td>\n",
       "    </tr>\n",
       "    <tr>\n",
       "      <th>4</th>\n",
       "      <td>GRILL MASTERS</td>\n",
       "      <td>Abohar</td>\n",
       "      <td>--</td>\n",
       "      <td>Too Few Ratings</td>\n",
       "      <td>250</td>\n",
       "      <td>Italian-American,Fast Food</td>\n",
       "      <td>NaN</td>\n",
       "    </tr>\n",
       "    <tr>\n",
       "      <th>...</th>\n",
       "      <td>...</td>\n",
       "      <td>...</td>\n",
       "      <td>...</td>\n",
       "      <td>...</td>\n",
       "      <td>...</td>\n",
       "      <td>...</td>\n",
       "      <td>...</td>\n",
       "    </tr>\n",
       "    <tr>\n",
       "      <th>148501</th>\n",
       "      <td>The Food Delight</td>\n",
       "      <td>Yavatmal</td>\n",
       "      <td>--</td>\n",
       "      <td>Too Few Ratings</td>\n",
       "      <td>200</td>\n",
       "      <td>Fast Food,Snacks</td>\n",
       "      <td>NaN</td>\n",
       "    </tr>\n",
       "    <tr>\n",
       "      <th>148502</th>\n",
       "      <td>MAITRI FOODS &amp; BEVERAGES</td>\n",
       "      <td>Yavatmal</td>\n",
       "      <td>--</td>\n",
       "      <td>Too Few Ratings</td>\n",
       "      <td>300</td>\n",
       "      <td>Pizzas</td>\n",
       "      <td>NaN</td>\n",
       "    </tr>\n",
       "    <tr>\n",
       "      <th>148503</th>\n",
       "      <td>Cafe Bella Ciao</td>\n",
       "      <td>Yavatmal</td>\n",
       "      <td>--</td>\n",
       "      <td>Too Few Ratings</td>\n",
       "      <td>300</td>\n",
       "      <td>Fast Food,Snacks</td>\n",
       "      <td>NaN</td>\n",
       "    </tr>\n",
       "    <tr>\n",
       "      <th>148504</th>\n",
       "      <td>GRILL ZILLA</td>\n",
       "      <td>Yavatmal</td>\n",
       "      <td>--</td>\n",
       "      <td>Too Few Ratings</td>\n",
       "      <td>250</td>\n",
       "      <td>Continental</td>\n",
       "      <td>NaN</td>\n",
       "    </tr>\n",
       "    <tr>\n",
       "      <th>148505</th>\n",
       "      <td>Lazeez kitchen</td>\n",
       "      <td>Yavatmal</td>\n",
       "      <td>--</td>\n",
       "      <td>Too Few Ratings</td>\n",
       "      <td>200</td>\n",
       "      <td>Pizzas</td>\n",
       "      <td>NaN</td>\n",
       "    </tr>\n",
       "  </tbody>\n",
       "</table>\n",
       "<p>148506 rows × 7 columns</p>\n",
       "</div>"
      ],
      "text/plain": [
       "                            name      city rating     rating_count  cost  \\\n",
       "0                 AB FOODS POINT    Abohar     --  Too Few Ratings   200   \n",
       "1              Janta Sweet House    Abohar    4.4      50+ ratings   200   \n",
       "2              theka coffee desi    Abohar    3.8     100+ ratings   100   \n",
       "3                      Singh Hut    Abohar    3.7      20+ ratings   250   \n",
       "4                  GRILL MASTERS    Abohar     --  Too Few Ratings   250   \n",
       "...                          ...       ...    ...              ...   ...   \n",
       "148501          The Food Delight  Yavatmal     --  Too Few Ratings   200   \n",
       "148502  MAITRI FOODS & BEVERAGES  Yavatmal     --  Too Few Ratings   300   \n",
       "148503           Cafe Bella Ciao  Yavatmal     --  Too Few Ratings   300   \n",
       "148504               GRILL ZILLA  Yavatmal     --  Too Few Ratings   250   \n",
       "148505            Lazeez kitchen  Yavatmal     --  Too Few Ratings   200   \n",
       "\n",
       "                           cuisine main_city  \n",
       "0                 Beverages,Pizzas       NaN  \n",
       "1                    Sweets,Bakery       NaN  \n",
       "2                        Beverages       NaN  \n",
       "3                 Fast Food,Indian       NaN  \n",
       "4       Italian-American,Fast Food       NaN  \n",
       "...                            ...       ...  \n",
       "148501            Fast Food,Snacks       NaN  \n",
       "148502                      Pizzas       NaN  \n",
       "148503            Fast Food,Snacks       NaN  \n",
       "148504                 Continental       NaN  \n",
       "148505                      Pizzas       NaN  \n",
       "\n",
       "[148506 rows x 7 columns]"
      ]
     },
     "execution_count": 112,
     "metadata": {},
     "output_type": "execute_result"
    }
   ],
   "source": [
    "df"
   ]
  },
  {
   "cell_type": "code",
   "execution_count": 113,
   "id": "01d9cf71",
   "metadata": {},
   "outputs": [],
   "source": [
    "df['rating']=pd.to_numeric(df['rating'],errors='coerce')"
   ]
  },
  {
   "cell_type": "code",
   "execution_count": 114,
   "id": "0e540b2b",
   "metadata": {},
   "outputs": [
    {
     "data": {
      "text/html": [
       "<div>\n",
       "<style scoped>\n",
       "    .dataframe tbody tr th:only-of-type {\n",
       "        vertical-align: middle;\n",
       "    }\n",
       "\n",
       "    .dataframe tbody tr th {\n",
       "        vertical-align: top;\n",
       "    }\n",
       "\n",
       "    .dataframe thead th {\n",
       "        text-align: right;\n",
       "    }\n",
       "</style>\n",
       "<table border=\"1\" class=\"dataframe\">\n",
       "  <thead>\n",
       "    <tr style=\"text-align: right;\">\n",
       "      <th></th>\n",
       "      <th>name</th>\n",
       "      <th>city</th>\n",
       "      <th>rating</th>\n",
       "      <th>rating_count</th>\n",
       "      <th>cost</th>\n",
       "      <th>cuisine</th>\n",
       "      <th>main_city</th>\n",
       "    </tr>\n",
       "  </thead>\n",
       "  <tbody>\n",
       "    <tr>\n",
       "      <th>0</th>\n",
       "      <td>AB FOODS POINT</td>\n",
       "      <td>Abohar</td>\n",
       "      <td>NaN</td>\n",
       "      <td>Too Few Ratings</td>\n",
       "      <td>200</td>\n",
       "      <td>Beverages,Pizzas</td>\n",
       "      <td>NaN</td>\n",
       "    </tr>\n",
       "    <tr>\n",
       "      <th>1</th>\n",
       "      <td>Janta Sweet House</td>\n",
       "      <td>Abohar</td>\n",
       "      <td>4.4</td>\n",
       "      <td>50+ ratings</td>\n",
       "      <td>200</td>\n",
       "      <td>Sweets,Bakery</td>\n",
       "      <td>NaN</td>\n",
       "    </tr>\n",
       "    <tr>\n",
       "      <th>2</th>\n",
       "      <td>theka coffee desi</td>\n",
       "      <td>Abohar</td>\n",
       "      <td>3.8</td>\n",
       "      <td>100+ ratings</td>\n",
       "      <td>100</td>\n",
       "      <td>Beverages</td>\n",
       "      <td>NaN</td>\n",
       "    </tr>\n",
       "    <tr>\n",
       "      <th>3</th>\n",
       "      <td>Singh Hut</td>\n",
       "      <td>Abohar</td>\n",
       "      <td>3.7</td>\n",
       "      <td>20+ ratings</td>\n",
       "      <td>250</td>\n",
       "      <td>Fast Food,Indian</td>\n",
       "      <td>NaN</td>\n",
       "    </tr>\n",
       "    <tr>\n",
       "      <th>4</th>\n",
       "      <td>GRILL MASTERS</td>\n",
       "      <td>Abohar</td>\n",
       "      <td>NaN</td>\n",
       "      <td>Too Few Ratings</td>\n",
       "      <td>250</td>\n",
       "      <td>Italian-American,Fast Food</td>\n",
       "      <td>NaN</td>\n",
       "    </tr>\n",
       "  </tbody>\n",
       "</table>\n",
       "</div>"
      ],
      "text/plain": [
       "                name    city  rating     rating_count  cost  \\\n",
       "0     AB FOODS POINT  Abohar     NaN  Too Few Ratings   200   \n",
       "1  Janta Sweet House  Abohar     4.4      50+ ratings   200   \n",
       "2  theka coffee desi  Abohar     3.8     100+ ratings   100   \n",
       "3          Singh Hut  Abohar     3.7      20+ ratings   250   \n",
       "4      GRILL MASTERS  Abohar     NaN  Too Few Ratings   250   \n",
       "\n",
       "                      cuisine main_city  \n",
       "0            Beverages,Pizzas       NaN  \n",
       "1               Sweets,Bakery       NaN  \n",
       "2                   Beverages       NaN  \n",
       "3            Fast Food,Indian       NaN  \n",
       "4  Italian-American,Fast Food       NaN  "
      ]
     },
     "execution_count": 114,
     "metadata": {},
     "output_type": "execute_result"
    }
   ],
   "source": [
    "df.head()"
   ]
  },
  {
   "cell_type": "code",
   "execution_count": 115,
   "id": "facf8abf",
   "metadata": {},
   "outputs": [],
   "source": [
    "df['rating']=df['rating'].fillna(df.groupby('city')['rating'].transform(lambda x: x.mean())).round(1)"
   ]
  },
  {
   "cell_type": "code",
   "execution_count": 49,
   "id": "4628ce92",
   "metadata": {},
   "outputs": [],
   "source": [
    "df.drop(['new_rating'],axis=1,inplace=True)"
   ]
  },
  {
   "cell_type": "code",
   "execution_count": 116,
   "id": "8df8229a",
   "metadata": {},
   "outputs": [],
   "source": [
    "df['rating']=df['rating'].fillna(df['rating'].mean())"
   ]
  },
  {
   "cell_type": "code",
   "execution_count": 73,
   "id": "f1e39eb0",
   "metadata": {},
   "outputs": [],
   "source": [
    "df.to_csv('final.csv',index=False)"
   ]
  },
  {
   "cell_type": "code",
   "execution_count": 166,
   "id": "3f5c03fd",
   "metadata": {},
   "outputs": [],
   "source": [
    "df=pd.read_csv(r'D:\\GuviProject4\\final.csv')"
   ]
  },
  {
   "cell_type": "code",
   "execution_count": 168,
   "id": "3ebd8ed7",
   "metadata": {},
   "outputs": [
    {
     "data": {
      "text/plain": [
       "array(['Too Few Ratings', '50+ ratings', '100+ ratings', '20+ ratings',\n",
       "       '500+ ratings', '1K+ ratings', '5K+ ratings', nan, '10K+ ratings'],\n",
       "      dtype=object)"
      ]
     },
     "execution_count": 168,
     "metadata": {},
     "output_type": "execute_result"
    }
   ],
   "source": [
    "df['rating_count'].unique()"
   ]
  },
  {
   "cell_type": "code",
   "execution_count": 169,
   "id": "cbf53ecc",
   "metadata": {},
   "outputs": [],
   "source": [
    "df['rating_count']=df['rating_count'].str.replace('ratings','').str.replace('+','')"
   ]
  },
  {
   "cell_type": "code",
   "execution_count": 170,
   "id": "61ec262f",
   "metadata": {},
   "outputs": [],
   "source": [
    "df['rating_count']=df['rating_count'].str.replace('Too Few Ratings','')"
   ]
  },
  {
   "cell_type": "code",
   "execution_count": 171,
   "id": "2e0aa066",
   "metadata": {},
   "outputs": [],
   "source": [
    "df['rating_count']=pd.to_numeric(df['rating_count'].str.replace('K','000'))"
   ]
  },
  {
   "cell_type": "code",
   "execution_count": 173,
   "id": "b83bec96",
   "metadata": {},
   "outputs": [],
   "source": [
    "df['rating_count']=df.groupby('city')['rating_count'].transform(lambda x: x.fillna(x.mean())).round(1)"
   ]
  },
  {
   "cell_type": "code",
   "execution_count": 177,
   "id": "43caa0d7",
   "metadata": {},
   "outputs": [
    {
     "data": {
      "text/plain": [
       "np.int64(0)"
      ]
     },
     "execution_count": 177,
     "metadata": {},
     "output_type": "execute_result"
    }
   ],
   "source": [
    "df['rating_count'].isnull().sum()"
   ]
  },
  {
   "cell_type": "code",
   "execution_count": 176,
   "id": "d904aa10",
   "metadata": {},
   "outputs": [],
   "source": [
    "df['rating_count']=df['rating_count'].fillna(df['rating_count'].mean())"
   ]
  },
  {
   "cell_type": "code",
   "execution_count": 179,
   "id": "3d1096bc",
   "metadata": {},
   "outputs": [],
   "source": [
    "df['rating_count']=df['rating_count'].astype(int)"
   ]
  },
  {
   "cell_type": "code",
   "execution_count": 181,
   "id": "5bfa240d",
   "metadata": {},
   "outputs": [],
   "source": [
    "import random\n",
    "def random_generator(x):\n",
    "    if x==20:\n",
    "        return x + random.randrange(5,25,5)\n",
    "    elif x==50:\n",
    "        return x + random.randrange(10,50,10)\n",
    "    elif x==100:\n",
    "        return x + random.randrange(20,400,25)\n",
    "    elif x==500:\n",
    "        return x + random.randrange(50,500,50)\n",
    "    elif x==1000:\n",
    "        return x + random.randrange(100,4000,100)\n",
    "    elif x==5000:\n",
    "        return x + random.randrange(200,5000,200)\n",
    "    elif x==10000:\n",
    "        return x + random.randrange(400,10000,400)\n",
    "    else:\n",
    "        return x - random.randrange(0,10)\n",
    "    \n"
   ]
  },
  {
   "cell_type": "code",
   "execution_count": 182,
   "id": "b4f6b908",
   "metadata": {},
   "outputs": [],
   "source": [
    "df['rating_count']=df['rating_count'].apply(random_generator)"
   ]
  },
  {
   "cell_type": "code",
   "execution_count": 194,
   "id": "1f8ba02f",
   "metadata": {},
   "outputs": [],
   "source": [
    "df['name']=df['name'].str.upper()"
   ]
  },
  {
   "cell_type": "code",
   "execution_count": 209,
   "id": "f1a37e36",
   "metadata": {},
   "outputs": [],
   "source": [
    "df.to_csv('final.csv',index=False)"
   ]
  },
  {
   "cell_type": "code",
   "execution_count": 202,
   "id": "aba21382",
   "metadata": {},
   "outputs": [],
   "source": [
    "df['cost']=df['cost'].fillna(df['cost'].mean()).astype(int)"
   ]
  },
  {
   "cell_type": "code",
   "execution_count": 211,
   "id": "570e2da6",
   "metadata": {},
   "outputs": [],
   "source": [
    "new_cuisine=df['cuisine'].str.split(',',expand=True)"
   ]
  },
  {
   "cell_type": "code",
   "execution_count": 217,
   "id": "546839ab",
   "metadata": {},
   "outputs": [
    {
     "data": {
      "image/png": "[encoded data removed]",
      "text/plain": [
       "<Figure size 640x480 with 1 Axes>"
      ]
     },
     "metadata": {},
     "output_type": "display_data"
    }
   ],
   "source": [
    "import seaborn as sns\n",
    "import matplotlib.pyplot as plt\n",
    "sns.barplot(new_cuisine[0].value_counts().head(10))\n",
    "\n",
    "plt.xticks(rotation=60)\n",
    "plt.show()"
   ]
  },
  {
   "cell_type": "code",
   "execution_count": 220,
   "id": "fdc45c80",
   "metadata": {},
   "outputs": [
    {
     "data": {
      "image/png": "[encoded data removed]",
      "text/plain": [
       "<Figure size 640x480 with 1 Axes>"
      ]
     },
     "metadata": {},
     "output_type": "display_data"
    }
   ],
   "source": [
    "sns.barplot(new_cuisine[1].value_counts().head(10))\n",
    "plt.xticks(rotation=60)\n",
    "plt.show()"
   ]
  },
  {
   "cell_type": "code",
   "execution_count": 222,
   "id": "3a7d61c9",
   "metadata": {},
   "outputs": [],
   "source": [
    "df[['cuisine1','cuisine2']]=df['cuisine'].str.split(',',expand=True)"
   ]
  },
  {
   "cell_type": "code",
   "execution_count": 232,
   "id": "89272f18",
   "metadata": {},
   "outputs": [],
   "source": [
    "df.drop(columns='cuisine',inplace=True)"
   ]
  },
  {
   "cell_type": "code",
   "execution_count": 255,
   "id": "8cec7be7",
   "metadata": {},
   "outputs": [],
   "source": [
    "df.to_csv('final.csv',index=False)"
   ]
  },
  {
   "cell_type": "code",
   "execution_count": 257,
   "id": "3848e236",
   "metadata": {},
   "outputs": [],
   "source": [
    "df=pd.read_csv(r'D:\\GuviProject4\\final.csv')"
   ]
  },
  {
   "cell_type": "code",
   "execution_count": 260,
   "id": "05d254ee",
   "metadata": {},
   "outputs": [
    {
     "data": {
      "text/html": [
       "<div>\n",
       "<style scoped>\n",
       "    .dataframe tbody tr th:only-of-type {\n",
       "        vertical-align: middle;\n",
       "    }\n",
       "\n",
       "    .dataframe tbody tr th {\n",
       "        vertical-align: top;\n",
       "    }\n",
       "\n",
       "    .dataframe thead th {\n",
       "        text-align: right;\n",
       "    }\n",
       "</style>\n",
       "<table border=\"1\" class=\"dataframe\">\n",
       "  <thead>\n",
       "    <tr style=\"text-align: right;\">\n",
       "      <th></th>\n",
       "      <th>name</th>\n",
       "      <th>city</th>\n",
       "      <th>rating</th>\n",
       "      <th>rating_count</th>\n",
       "      <th>cost</th>\n",
       "      <th>main_city</th>\n",
       "      <th>cuisine1</th>\n",
       "      <th>cuisine2</th>\n",
       "    </tr>\n",
       "  </thead>\n",
       "  <tbody>\n",
       "    <tr>\n",
       "      <th>0</th>\n",
       "      <td>AB FOODS POINT</td>\n",
       "      <td>Abohar</td>\n",
       "      <td>4.1</td>\n",
       "      <td>39</td>\n",
       "      <td>200</td>\n",
       "      <td>NaN</td>\n",
       "      <td>Beverages</td>\n",
       "      <td>Pizzas</td>\n",
       "    </tr>\n",
       "    <tr>\n",
       "      <th>1</th>\n",
       "      <td>JANTA SWEET HOUSE</td>\n",
       "      <td>Abohar</td>\n",
       "      <td>4.4</td>\n",
       "      <td>90</td>\n",
       "      <td>200</td>\n",
       "      <td>NaN</td>\n",
       "      <td>Sweets</td>\n",
       "      <td>Bakery</td>\n",
       "    </tr>\n",
       "    <tr>\n",
       "      <th>2</th>\n",
       "      <td>THEKA COFFEE DESI</td>\n",
       "      <td>Abohar</td>\n",
       "      <td>3.8</td>\n",
       "      <td>445</td>\n",
       "      <td>100</td>\n",
       "      <td>NaN</td>\n",
       "      <td>Beverages</td>\n",
       "      <td>NaN</td>\n",
       "    </tr>\n",
       "    <tr>\n",
       "      <th>3</th>\n",
       "      <td>SINGH HUT</td>\n",
       "      <td>Abohar</td>\n",
       "      <td>3.7</td>\n",
       "      <td>35</td>\n",
       "      <td>250</td>\n",
       "      <td>NaN</td>\n",
       "      <td>Fast Food</td>\n",
       "      <td>Indian</td>\n",
       "    </tr>\n",
       "    <tr>\n",
       "      <th>4</th>\n",
       "      <td>GRILL MASTERS</td>\n",
       "      <td>Abohar</td>\n",
       "      <td>4.1</td>\n",
       "      <td>40</td>\n",
       "      <td>250</td>\n",
       "      <td>NaN</td>\n",
       "      <td>Italian-American</td>\n",
       "      <td>Fast Food</td>\n",
       "    </tr>\n",
       "    <tr>\n",
       "      <th>...</th>\n",
       "      <td>...</td>\n",
       "      <td>...</td>\n",
       "      <td>...</td>\n",
       "      <td>...</td>\n",
       "      <td>...</td>\n",
       "      <td>...</td>\n",
       "      <td>...</td>\n",
       "      <td>...</td>\n",
       "    </tr>\n",
       "    <tr>\n",
       "      <th>148501</th>\n",
       "      <td>THE FOOD DELIGHT</td>\n",
       "      <td>Yavatmal</td>\n",
       "      <td>3.7</td>\n",
       "      <td>30</td>\n",
       "      <td>200</td>\n",
       "      <td>NaN</td>\n",
       "      <td>Fast Food</td>\n",
       "      <td>Snacks</td>\n",
       "    </tr>\n",
       "    <tr>\n",
       "      <th>148502</th>\n",
       "      <td>MAITRI FOODS &amp; BEVERAGES</td>\n",
       "      <td>Yavatmal</td>\n",
       "      <td>3.7</td>\n",
       "      <td>33</td>\n",
       "      <td>300</td>\n",
       "      <td>NaN</td>\n",
       "      <td>Pizzas</td>\n",
       "      <td>NaN</td>\n",
       "    </tr>\n",
       "    <tr>\n",
       "      <th>148503</th>\n",
       "      <td>CAFE BELLA CIAO</td>\n",
       "      <td>Yavatmal</td>\n",
       "      <td>3.7</td>\n",
       "      <td>32</td>\n",
       "      <td>300</td>\n",
       "      <td>NaN</td>\n",
       "      <td>Fast Food</td>\n",
       "      <td>Snacks</td>\n",
       "    </tr>\n",
       "    <tr>\n",
       "      <th>148504</th>\n",
       "      <td>GRILL ZILLA</td>\n",
       "      <td>Yavatmal</td>\n",
       "      <td>3.7</td>\n",
       "      <td>33</td>\n",
       "      <td>250</td>\n",
       "      <td>NaN</td>\n",
       "      <td>Continental</td>\n",
       "      <td>NaN</td>\n",
       "    </tr>\n",
       "    <tr>\n",
       "      <th>148505</th>\n",
       "      <td>LAZEEZ KITCHEN</td>\n",
       "      <td>Yavatmal</td>\n",
       "      <td>3.7</td>\n",
       "      <td>35</td>\n",
       "      <td>200</td>\n",
       "      <td>NaN</td>\n",
       "      <td>Pizzas</td>\n",
       "      <td>NaN</td>\n",
       "    </tr>\n",
       "  </tbody>\n",
       "</table>\n",
       "<p>148506 rows × 8 columns</p>\n",
       "</div>"
      ],
      "text/plain": [
       "                            name      city  rating  rating_count  cost  \\\n",
       "0                 AB FOODS POINT    Abohar     4.1            39   200   \n",
       "1              JANTA SWEET HOUSE    Abohar     4.4            90   200   \n",
       "2              THEKA COFFEE DESI    Abohar     3.8           445   100   \n",
       "3                      SINGH HUT    Abohar     3.7            35   250   \n",
       "4                  GRILL MASTERS    Abohar     4.1            40   250   \n",
       "...                          ...       ...     ...           ...   ...   \n",
       "148501          THE FOOD DELIGHT  Yavatmal     3.7            30   200   \n",
       "148502  MAITRI FOODS & BEVERAGES  Yavatmal     3.7            33   300   \n",
       "148503           CAFE BELLA CIAO  Yavatmal     3.7            32   300   \n",
       "148504               GRILL ZILLA  Yavatmal     3.7            33   250   \n",
       "148505            LAZEEZ KITCHEN  Yavatmal     3.7            35   200   \n",
       "\n",
       "       main_city          cuisine1   cuisine2  \n",
       "0            NaN         Beverages     Pizzas  \n",
       "1            NaN            Sweets     Bakery  \n",
       "2            NaN         Beverages        NaN  \n",
       "3            NaN         Fast Food     Indian  \n",
       "4            NaN  Italian-American  Fast Food  \n",
       "...          ...               ...        ...  \n",
       "148501       NaN         Fast Food     Snacks  \n",
       "148502       NaN            Pizzas        NaN  \n",
       "148503       NaN         Fast Food     Snacks  \n",
       "148504       NaN       Continental        NaN  \n",
       "148505       NaN            Pizzas        NaN  \n",
       "\n",
       "[148506 rows x 8 columns]"
      ]
     },
     "execution_count": 260,
     "metadata": {},
     "output_type": "execute_result"
    }
   ],
   "source": [
    "df=pd.read_csv(r'D:\\GuviProject4\\cleaned_data.csv')\n",
    "df"
   ]
  },
  {
   "cell_type": "code",
   "execution_count": 262,
   "id": "e487646d",
   "metadata": {},
   "outputs": [
    {
     "data": {
      "text/plain": [
       "Index(['name', 'city', 'rating', 'rating_count', 'cost', 'main_city',\n",
       "       'cuisine1', 'cuisine2'],\n",
       "      dtype='object')"
      ]
     },
     "execution_count": 262,
     "metadata": {},
     "output_type": "execute_result"
    }
   ],
   "source": [
    "df.columns"
   ]
  },
  {
   "cell_type": "code",
   "execution_count": 261,
   "id": "765f09f1",
   "metadata": {},
   "outputs": [
    {
     "name": "stdout",
     "output_type": "stream",
     "text": [
      "Requirement already satisfied: scikit-learn in c:\\users\\loges\\appdata\\local\\programs\\python\\python312\\lib\\site-packages (1.6.1)\n",
      "Requirement already satisfied: numpy>=1.19.5 in c:\\users\\loges\\appdata\\local\\programs\\python\\python312\\lib\\site-packages (from scikit-learn) (2.2.3)\n",
      "Requirement already satisfied: scipy>=1.6.0 in c:\\users\\loges\\appdata\\local\\programs\\python\\python312\\lib\\site-packages (from scikit-learn) (1.15.2)\n",
      "Requirement already satisfied: joblib>=1.2.0 in c:\\users\\loges\\appdata\\local\\programs\\python\\python312\\lib\\site-packages (from scikit-learn) (1.4.2)\n",
      "Requirement already satisfied: threadpoolctl>=3.1.0 in c:\\users\\loges\\appdata\\local\\programs\\python\\python312\\lib\\site-packages (from scikit-learn) (3.6.0)\n",
      "Note: you may need to restart the kernel to use updated packages.\n"
     ]
    }
   ],
   "source": [
    "%pip install scikit-learn"
   ]
  },
  {
   "cell_type": "code",
   "execution_count": 42,
   "id": "05204661",
   "metadata": {},
   "outputs": [
    {
     "data": {
      "text/html": [
       "<div>\n",
       "<style scoped>\n",
       "    .dataframe tbody tr th:only-of-type {\n",
       "        vertical-align: middle;\n",
       "    }\n",
       "\n",
       "    .dataframe tbody tr th {\n",
       "        vertical-align: top;\n",
       "    }\n",
       "\n",
       "    .dataframe thead th {\n",
       "        text-align: right;\n",
       "    }\n",
       "</style>\n",
       "<table border=\"1\" class=\"dataframe\">\n",
       "  <thead>\n",
       "    <tr style=\"text-align: right;\">\n",
       "      <th></th>\n",
       "      <th>name</th>\n",
       "      <th>city</th>\n",
       "      <th>rating</th>\n",
       "      <th>rating_count</th>\n",
       "      <th>cost</th>\n",
       "      <th>main_city</th>\n",
       "      <th>cuisine1</th>\n",
       "      <th>cuisine2</th>\n",
       "    </tr>\n",
       "  </thead>\n",
       "  <tbody>\n",
       "    <tr>\n",
       "      <th>0</th>\n",
       "      <td>AB FOODS POINT</td>\n",
       "      <td>Abohar</td>\n",
       "      <td>4.1</td>\n",
       "      <td>39</td>\n",
       "      <td>200</td>\n",
       "      <td>NaN</td>\n",
       "      <td>Beverages</td>\n",
       "      <td>Pizzas</td>\n",
       "    </tr>\n",
       "    <tr>\n",
       "      <th>1</th>\n",
       "      <td>JANTA SWEET HOUSE</td>\n",
       "      <td>Abohar</td>\n",
       "      <td>4.4</td>\n",
       "      <td>90</td>\n",
       "      <td>200</td>\n",
       "      <td>NaN</td>\n",
       "      <td>Sweets</td>\n",
       "      <td>Bakery</td>\n",
       "    </tr>\n",
       "    <tr>\n",
       "      <th>2</th>\n",
       "      <td>THEKA COFFEE DESI</td>\n",
       "      <td>Abohar</td>\n",
       "      <td>3.8</td>\n",
       "      <td>445</td>\n",
       "      <td>100</td>\n",
       "      <td>NaN</td>\n",
       "      <td>Beverages</td>\n",
       "      <td>NaN</td>\n",
       "    </tr>\n",
       "    <tr>\n",
       "      <th>3</th>\n",
       "      <td>SINGH HUT</td>\n",
       "      <td>Abohar</td>\n",
       "      <td>3.7</td>\n",
       "      <td>35</td>\n",
       "      <td>250</td>\n",
       "      <td>NaN</td>\n",
       "      <td>Fast Food</td>\n",
       "      <td>Indian</td>\n",
       "    </tr>\n",
       "    <tr>\n",
       "      <th>4</th>\n",
       "      <td>GRILL MASTERS</td>\n",
       "      <td>Abohar</td>\n",
       "      <td>4.1</td>\n",
       "      <td>40</td>\n",
       "      <td>250</td>\n",
       "      <td>NaN</td>\n",
       "      <td>Italian-American</td>\n",
       "      <td>Fast Food</td>\n",
       "    </tr>\n",
       "    <tr>\n",
       "      <th>...</th>\n",
       "      <td>...</td>\n",
       "      <td>...</td>\n",
       "      <td>...</td>\n",
       "      <td>...</td>\n",
       "      <td>...</td>\n",
       "      <td>...</td>\n",
       "      <td>...</td>\n",
       "      <td>...</td>\n",
       "    </tr>\n",
       "    <tr>\n",
       "      <th>148501</th>\n",
       "      <td>THE FOOD DELIGHT</td>\n",
       "      <td>Yavatmal</td>\n",
       "      <td>3.7</td>\n",
       "      <td>30</td>\n",
       "      <td>200</td>\n",
       "      <td>NaN</td>\n",
       "      <td>Fast Food</td>\n",
       "      <td>Snacks</td>\n",
       "    </tr>\n",
       "    <tr>\n",
       "      <th>148502</th>\n",
       "      <td>MAITRI FOODS &amp; BEVERAGES</td>\n",
       "      <td>Yavatmal</td>\n",
       "      <td>3.7</td>\n",
       "      <td>33</td>\n",
       "      <td>300</td>\n",
       "      <td>NaN</td>\n",
       "      <td>Pizzas</td>\n",
       "      <td>NaN</td>\n",
       "    </tr>\n",
       "    <tr>\n",
       "      <th>148503</th>\n",
       "      <td>CAFE BELLA CIAO</td>\n",
       "      <td>Yavatmal</td>\n",
       "      <td>3.7</td>\n",
       "      <td>32</td>\n",
       "      <td>300</td>\n",
       "      <td>NaN</td>\n",
       "      <td>Fast Food</td>\n",
       "      <td>Snacks</td>\n",
       "    </tr>\n",
       "    <tr>\n",
       "      <th>148504</th>\n",
       "      <td>GRILL ZILLA</td>\n",
       "      <td>Yavatmal</td>\n",
       "      <td>3.7</td>\n",
       "      <td>33</td>\n",
       "      <td>250</td>\n",
       "      <td>NaN</td>\n",
       "      <td>Continental</td>\n",
       "      <td>NaN</td>\n",
       "    </tr>\n",
       "    <tr>\n",
       "      <th>148505</th>\n",
       "      <td>LAZEEZ KITCHEN</td>\n",
       "      <td>Yavatmal</td>\n",
       "      <td>3.7</td>\n",
       "      <td>35</td>\n",
       "      <td>200</td>\n",
       "      <td>NaN</td>\n",
       "      <td>Pizzas</td>\n",
       "      <td>NaN</td>\n",
       "    </tr>\n",
       "  </tbody>\n",
       "</table>\n",
       "<p>148506 rows × 8 columns</p>\n",
       "</div>"
      ],
      "text/plain": [
       "                            name      city  rating  rating_count  cost  \\\n",
       "0                 AB FOODS POINT    Abohar     4.1            39   200   \n",
       "1              JANTA SWEET HOUSE    Abohar     4.4            90   200   \n",
       "2              THEKA COFFEE DESI    Abohar     3.8           445   100   \n",
       "3                      SINGH HUT    Abohar     3.7            35   250   \n",
       "4                  GRILL MASTERS    Abohar     4.1            40   250   \n",
       "...                          ...       ...     ...           ...   ...   \n",
       "148501          THE FOOD DELIGHT  Yavatmal     3.7            30   200   \n",
       "148502  MAITRI FOODS & BEVERAGES  Yavatmal     3.7            33   300   \n",
       "148503           CAFE BELLA CIAO  Yavatmal     3.7            32   300   \n",
       "148504               GRILL ZILLA  Yavatmal     3.7            33   250   \n",
       "148505            LAZEEZ KITCHEN  Yavatmal     3.7            35   200   \n",
       "\n",
       "       main_city          cuisine1   cuisine2  \n",
       "0            NaN         Beverages     Pizzas  \n",
       "1            NaN            Sweets     Bakery  \n",
       "2            NaN         Beverages        NaN  \n",
       "3            NaN         Fast Food     Indian  \n",
       "4            NaN  Italian-American  Fast Food  \n",
       "...          ...               ...        ...  \n",
       "148501       NaN         Fast Food     Snacks  \n",
       "148502       NaN            Pizzas        NaN  \n",
       "148503       NaN         Fast Food     Snacks  \n",
       "148504       NaN       Continental        NaN  \n",
       "148505       NaN            Pizzas        NaN  \n",
       "\n",
       "[148506 rows x 8 columns]"
      ]
     },
     "execution_count": 42,
     "metadata": {},
     "output_type": "execute_result"
    }
   ],
   "source": [
    "import pandas as pd\n",
    "df=pd.read_csv(r'D:\\GuviProject4\\cleaned_data.csv')\n",
    "df"
   ]
  },
  {
   "cell_type": "code",
   "execution_count": 43,
   "id": "6e8a6217",
   "metadata": {},
   "outputs": [],
   "source": [
    "df.drop(columns='cuisine2',inplace=True)"
   ]
  },
  {
   "cell_type": "code",
   "execution_count": 44,
   "id": "be04f210",
   "metadata": {},
   "outputs": [],
   "source": [
    "df.rename(columns={'cuisine1':'cuisine'},inplace=True)"
   ]
  },
  {
   "cell_type": "code",
   "execution_count": 45,
   "id": "0654fb1a",
   "metadata": {},
   "outputs": [
    {
     "data": {
      "text/plain": [
       "np.int64(74)"
      ]
     },
     "execution_count": 45,
     "metadata": {},
     "output_type": "execute_result"
    }
   ],
   "source": [
    "df['cuisine'].isnull().sum()"
   ]
  },
  {
   "cell_type": "code",
   "execution_count": 46,
   "id": "a9ac6da7",
   "metadata": {},
   "outputs": [],
   "source": [
    "df=df.dropna(subset=['cuisine'])"
   ]
  },
  {
   "cell_type": "code",
   "execution_count": 54,
   "id": "08e3e08d",
   "metadata": {},
   "outputs": [
    {
     "data": {
      "text/plain": [
       "Index(['name', 'city', 'rating', 'rating_count', 'cost', 'main_city',\n",
       "       'cuisine'],\n",
       "      dtype='object')"
      ]
     },
     "execution_count": 54,
     "metadata": {},
     "output_type": "execute_result"
    }
   ],
   "source": [
    "df.columns"
   ]
  },
  {
   "cell_type": "code",
   "execution_count": 64,
   "id": "c25e75f9",
   "metadata": {},
   "outputs": [],
   "source": [
    "df.to_csv('cleaned_data.csv',index=False)"
   ]
  },
  {
   "cell_type": "code",
   "execution_count": 66,
   "id": "3db52efc",
   "metadata": {},
   "outputs": [
    {
     "name": "stdout",
     "output_type": "stream",
     "text": [
      "<class 'pandas.core.frame.DataFrame'>\n",
      "RangeIndex: 148432 entries, 0 to 148431\n",
      "Data columns (total 7 columns):\n",
      " #   Column        Non-Null Count   Dtype  \n",
      "---  ------        --------------   -----  \n",
      " 0   name          148432 non-null  object \n",
      " 1   city          148432 non-null  object \n",
      " 2   rating        148432 non-null  float64\n",
      " 3   rating_count  148432 non-null  int64  \n",
      " 4   cost          148432 non-null  int64  \n",
      " 5   main_city     101646 non-null  object \n",
      " 6   cuisine       148432 non-null  object \n",
      "dtypes: float64(1), int64(2), object(4)\n",
      "memory usage: 7.9+ MB\n"
     ]
    }
   ],
   "source": [
    "df=pd.read_csv(r'D:\\GuviProject4\\cleaned_data.csv')\n",
    "df.info()"
   ]
  },
  {
   "cell_type": "code",
   "execution_count": 68,
   "id": "8c53b4d8",
   "metadata": {},
   "outputs": [
    {
     "data": {
      "text/html": [
       "<div>\n",
       "<style scoped>\n",
       "    .dataframe tbody tr th:only-of-type {\n",
       "        vertical-align: middle;\n",
       "    }\n",
       "\n",
       "    .dataframe tbody tr th {\n",
       "        vertical-align: top;\n",
       "    }\n",
       "\n",
       "    .dataframe thead th {\n",
       "        text-align: right;\n",
       "    }\n",
       "</style>\n",
       "<table border=\"1\" class=\"dataframe\">\n",
       "  <thead>\n",
       "    <tr style=\"text-align: right;\">\n",
       "      <th></th>\n",
       "      <th>name</th>\n",
       "      <th>city</th>\n",
       "      <th>rating</th>\n",
       "      <th>rating_count</th>\n",
       "      <th>cost</th>\n",
       "      <th>main_city</th>\n",
       "      <th>cuisine</th>\n",
       "    </tr>\n",
       "  </thead>\n",
       "  <tbody>\n",
       "    <tr>\n",
       "      <th>0</th>\n",
       "      <td>AB FOODS POINT</td>\n",
       "      <td>Abohar</td>\n",
       "      <td>4.1</td>\n",
       "      <td>39</td>\n",
       "      <td>200</td>\n",
       "      <td>NaN</td>\n",
       "      <td>Beverages</td>\n",
       "    </tr>\n",
       "    <tr>\n",
       "      <th>1</th>\n",
       "      <td>JANTA SWEET HOUSE</td>\n",
       "      <td>Abohar</td>\n",
       "      <td>4.4</td>\n",
       "      <td>90</td>\n",
       "      <td>200</td>\n",
       "      <td>NaN</td>\n",
       "      <td>Sweets</td>\n",
       "    </tr>\n",
       "    <tr>\n",
       "      <th>2</th>\n",
       "      <td>THEKA COFFEE DESI</td>\n",
       "      <td>Abohar</td>\n",
       "      <td>3.8</td>\n",
       "      <td>445</td>\n",
       "      <td>100</td>\n",
       "      <td>NaN</td>\n",
       "      <td>Beverages</td>\n",
       "    </tr>\n",
       "    <tr>\n",
       "      <th>3</th>\n",
       "      <td>SINGH HUT</td>\n",
       "      <td>Abohar</td>\n",
       "      <td>3.7</td>\n",
       "      <td>35</td>\n",
       "      <td>250</td>\n",
       "      <td>NaN</td>\n",
       "      <td>Fast Food</td>\n",
       "    </tr>\n",
       "    <tr>\n",
       "      <th>4</th>\n",
       "      <td>GRILL MASTERS</td>\n",
       "      <td>Abohar</td>\n",
       "      <td>4.1</td>\n",
       "      <td>40</td>\n",
       "      <td>250</td>\n",
       "      <td>NaN</td>\n",
       "      <td>Italian-American</td>\n",
       "    </tr>\n",
       "  </tbody>\n",
       "</table>\n",
       "</div>"
      ],
      "text/plain": [
       "                name    city  rating  rating_count  cost main_city  \\\n",
       "0     AB FOODS POINT  Abohar     4.1            39   200       NaN   \n",
       "1  JANTA SWEET HOUSE  Abohar     4.4            90   200       NaN   \n",
       "2  THEKA COFFEE DESI  Abohar     3.8           445   100       NaN   \n",
       "3          SINGH HUT  Abohar     3.7            35   250       NaN   \n",
       "4      GRILL MASTERS  Abohar     4.1            40   250       NaN   \n",
       "\n",
       "            cuisine  \n",
       "0         Beverages  \n",
       "1            Sweets  \n",
       "2         Beverages  \n",
       "3         Fast Food  \n",
       "4  Italian-American  "
      ]
     },
     "execution_count": 68,
     "metadata": {},
     "output_type": "execute_result"
    }
   ],
   "source": [
    "df.head()"
   ]
  },
  {
   "cell_type": "code",
   "execution_count": 69,
   "id": "ee460987",
   "metadata": {},
   "outputs": [
    {
     "data": {
      "text/plain": [
       "Index(['name', 'city', 'rating', 'rating_count', 'cost', 'main_city',\n",
       "       'cuisine'],\n",
       "      dtype='object')"
      ]
     },
     "execution_count": 69,
     "metadata": {},
     "output_type": "execute_result"
    }
   ],
   "source": [
    "df.columns"
   ]
  },
  {
   "cell_type": "code",
   "execution_count": 70,
   "id": "e469dc7b",
   "metadata": {},
   "outputs": [],
   "source": [
    "df_encoded=df.copy()"
   ]
  },
  {
   "cell_type": "code",
   "execution_count": 72,
   "id": "1d035bfe",
   "metadata": {},
   "outputs": [
    {
     "data": {
      "text/plain": [
       "Index(['name', 'city', 'rating', 'rating_count', 'cost', 'main_city',\n",
       "       'cuisine'],\n",
       "      dtype='object')"
      ]
     },
     "execution_count": 72,
     "metadata": {},
     "output_type": "execute_result"
    }
   ],
   "source": [
    "df_encoded.columns"
   ]
  },
  {
   "cell_type": "code",
   "execution_count": 83,
   "id": "b626a50a",
   "metadata": {},
   "outputs": [],
   "source": [
    "from sklearn.preprocessing import OneHotEncoder,LabelEncoder\n",
    "ohe=OneHotEncoder(sparse_output=False,handle_unknown='ignore')\n",
    "le=LabelEncoder()\n",
    "df_encoded['name']=le.fit_transform(df_encoded['name'])+1\n",
    "df_encoded['city']=ohe.fit_transform(df_encoded[['city']])\n",
    "df_encoded['main_city']=ohe.fit_transform(df_encoded[['main_city']])\n",
    "df_encoded['cuisine']=ohe.fit_transform(df_encoded[['cuisine']])"
   ]
  },
  {
   "cell_type": "code",
   "execution_count": 93,
   "id": "6279fc44",
   "metadata": {},
   "outputs": [],
   "source": [
    "df_encoded.to_csv('encoded_data.csv',index=False)"
   ]
  },
  {
   "cell_type": "code",
   "execution_count": 106,
   "id": "58aedb5f",
   "metadata": {},
   "outputs": [],
   "source": [
    "import pickle\n",
    "with open('le.pkl','wb') as file:\n",
    "    pickle.dump(le,file)"
   ]
  },
  {
   "cell_type": "code",
   "execution_count": 107,
   "id": "faee3318",
   "metadata": {},
   "outputs": [],
   "source": [
    "with open('ohe.pkl','wb') as file:\n",
    "    pickle.dump(ohe,file)"
   ]
  },
  {
   "cell_type": "code",
   "execution_count": 99,
   "id": "921c20da",
   "metadata": {},
   "outputs": [
    {
     "data": {
      "text/plain": [
       "(148432, 7)"
      ]
     },
     "execution_count": 99,
     "metadata": {},
     "output_type": "execute_result"
    }
   ],
   "source": [
    "df.shape"
   ]
  },
  {
   "cell_type": "code",
   "execution_count": 110,
   "id": "ea2d128d",
   "metadata": {},
   "outputs": [
    {
     "data": {
      "text/html": [
       "<div>\n",
       "<style scoped>\n",
       "    .dataframe tbody tr th:only-of-type {\n",
       "        vertical-align: middle;\n",
       "    }\n",
       "\n",
       "    .dataframe tbody tr th {\n",
       "        vertical-align: top;\n",
       "    }\n",
       "\n",
       "    .dataframe thead th {\n",
       "        text-align: right;\n",
       "    }\n",
       "</style>\n",
       "<table border=\"1\" class=\"dataframe\">\n",
       "  <thead>\n",
       "    <tr style=\"text-align: right;\">\n",
       "      <th></th>\n",
       "      <th>name</th>\n",
       "      <th>city</th>\n",
       "      <th>rating</th>\n",
       "      <th>rating_count</th>\n",
       "      <th>cost</th>\n",
       "      <th>main_city</th>\n",
       "      <th>cuisine</th>\n",
       "    </tr>\n",
       "  </thead>\n",
       "  <tbody>\n",
       "    <tr>\n",
       "      <th>0</th>\n",
       "      <td>AB FOODS POINT</td>\n",
       "      <td>Abohar</td>\n",
       "      <td>4.1</td>\n",
       "      <td>39</td>\n",
       "      <td>200</td>\n",
       "      <td>NaN</td>\n",
       "      <td>Beverages</td>\n",
       "    </tr>\n",
       "    <tr>\n",
       "      <th>1</th>\n",
       "      <td>JANTA SWEET HOUSE</td>\n",
       "      <td>Abohar</td>\n",
       "      <td>4.4</td>\n",
       "      <td>90</td>\n",
       "      <td>200</td>\n",
       "      <td>NaN</td>\n",
       "      <td>Sweets</td>\n",
       "    </tr>\n",
       "    <tr>\n",
       "      <th>2</th>\n",
       "      <td>THEKA COFFEE DESI</td>\n",
       "      <td>Abohar</td>\n",
       "      <td>3.8</td>\n",
       "      <td>445</td>\n",
       "      <td>100</td>\n",
       "      <td>NaN</td>\n",
       "      <td>Beverages</td>\n",
       "    </tr>\n",
       "    <tr>\n",
       "      <th>3</th>\n",
       "      <td>SINGH HUT</td>\n",
       "      <td>Abohar</td>\n",
       "      <td>3.7</td>\n",
       "      <td>35</td>\n",
       "      <td>250</td>\n",
       "      <td>NaN</td>\n",
       "      <td>Fast Food</td>\n",
       "    </tr>\n",
       "    <tr>\n",
       "      <th>4</th>\n",
       "      <td>GRILL MASTERS</td>\n",
       "      <td>Abohar</td>\n",
       "      <td>4.1</td>\n",
       "      <td>40</td>\n",
       "      <td>250</td>\n",
       "      <td>NaN</td>\n",
       "      <td>Italian-American</td>\n",
       "    </tr>\n",
       "  </tbody>\n",
       "</table>\n",
       "</div>"
      ],
      "text/plain": [
       "                name    city  rating  rating_count  cost main_city  \\\n",
       "0     AB FOODS POINT  Abohar     4.1            39   200       NaN   \n",
       "1  JANTA SWEET HOUSE  Abohar     4.4            90   200       NaN   \n",
       "2  THEKA COFFEE DESI  Abohar     3.8           445   100       NaN   \n",
       "3          SINGH HUT  Abohar     3.7            35   250       NaN   \n",
       "4      GRILL MASTERS  Abohar     4.1            40   250       NaN   \n",
       "\n",
       "            cuisine  \n",
       "0         Beverages  \n",
       "1            Sweets  \n",
       "2         Beverages  \n",
       "3         Fast Food  \n",
       "4  Italian-American  "
      ]
     },
     "execution_count": 110,
     "metadata": {},
     "output_type": "execute_result"
    }
   ],
   "source": [
    "df.head()"
   ]
  },
  {
   "cell_type": "markdown",
   "id": "2f77618a",
   "metadata": {},
   "source": [
    "# 25-04-2025"
   ]
  },
  {
   "cell_type": "code",
   "execution_count": 63,
   "id": "223c47e2",
   "metadata": {},
   "outputs": [
    {
     "data": {
      "text/html": [
       "<div>\n",
       "<style scoped>\n",
       "    .dataframe tbody tr th:only-of-type {\n",
       "        vertical-align: middle;\n",
       "    }\n",
       "\n",
       "    .dataframe tbody tr th {\n",
       "        vertical-align: top;\n",
       "    }\n",
       "\n",
       "    .dataframe thead th {\n",
       "        text-align: right;\n",
       "    }\n",
       "</style>\n",
       "<table border=\"1\" class=\"dataframe\">\n",
       "  <thead>\n",
       "    <tr style=\"text-align: right;\">\n",
       "      <th></th>\n",
       "      <th>name</th>\n",
       "      <th>city</th>\n",
       "      <th>rating</th>\n",
       "      <th>rating_count</th>\n",
       "      <th>cost</th>\n",
       "      <th>main_city</th>\n",
       "      <th>cuisine</th>\n",
       "    </tr>\n",
       "  </thead>\n",
       "  <tbody>\n",
       "    <tr>\n",
       "      <th>0</th>\n",
       "      <td>AB FOODS POINT</td>\n",
       "      <td>Abohar</td>\n",
       "      <td>4.1</td>\n",
       "      <td>39</td>\n",
       "      <td>200</td>\n",
       "      <td>NaN</td>\n",
       "      <td>Beverages</td>\n",
       "    </tr>\n",
       "    <tr>\n",
       "      <th>1</th>\n",
       "      <td>JANTA SWEET HOUSE</td>\n",
       "      <td>Abohar</td>\n",
       "      <td>4.4</td>\n",
       "      <td>90</td>\n",
       "      <td>200</td>\n",
       "      <td>NaN</td>\n",
       "      <td>Sweets</td>\n",
       "    </tr>\n",
       "    <tr>\n",
       "      <th>2</th>\n",
       "      <td>THEKA COFFEE DESI</td>\n",
       "      <td>Abohar</td>\n",
       "      <td>3.8</td>\n",
       "      <td>445</td>\n",
       "      <td>100</td>\n",
       "      <td>NaN</td>\n",
       "      <td>Beverages</td>\n",
       "    </tr>\n",
       "    <tr>\n",
       "      <th>3</th>\n",
       "      <td>SINGH HUT</td>\n",
       "      <td>Abohar</td>\n",
       "      <td>3.7</td>\n",
       "      <td>35</td>\n",
       "      <td>250</td>\n",
       "      <td>NaN</td>\n",
       "      <td>Fast Food</td>\n",
       "    </tr>\n",
       "    <tr>\n",
       "      <th>4</th>\n",
       "      <td>GRILL MASTERS</td>\n",
       "      <td>Abohar</td>\n",
       "      <td>4.1</td>\n",
       "      <td>40</td>\n",
       "      <td>250</td>\n",
       "      <td>NaN</td>\n",
       "      <td>Italian-American</td>\n",
       "    </tr>\n",
       "    <tr>\n",
       "      <th>...</th>\n",
       "      <td>...</td>\n",
       "      <td>...</td>\n",
       "      <td>...</td>\n",
       "      <td>...</td>\n",
       "      <td>...</td>\n",
       "      <td>...</td>\n",
       "      <td>...</td>\n",
       "    </tr>\n",
       "    <tr>\n",
       "      <th>148427</th>\n",
       "      <td>THE FOOD DELIGHT</td>\n",
       "      <td>Yavatmal</td>\n",
       "      <td>3.7</td>\n",
       "      <td>30</td>\n",
       "      <td>200</td>\n",
       "      <td>NaN</td>\n",
       "      <td>Fast Food</td>\n",
       "    </tr>\n",
       "    <tr>\n",
       "      <th>148428</th>\n",
       "      <td>MAITRI FOODS &amp; BEVERAGES</td>\n",
       "      <td>Yavatmal</td>\n",
       "      <td>3.7</td>\n",
       "      <td>33</td>\n",
       "      <td>300</td>\n",
       "      <td>NaN</td>\n",
       "      <td>Pizzas</td>\n",
       "    </tr>\n",
       "    <tr>\n",
       "      <th>148429</th>\n",
       "      <td>CAFE BELLA CIAO</td>\n",
       "      <td>Yavatmal</td>\n",
       "      <td>3.7</td>\n",
       "      <td>32</td>\n",
       "      <td>300</td>\n",
       "      <td>NaN</td>\n",
       "      <td>Fast Food</td>\n",
       "    </tr>\n",
       "    <tr>\n",
       "      <th>148430</th>\n",
       "      <td>GRILL ZILLA</td>\n",
       "      <td>Yavatmal</td>\n",
       "      <td>3.7</td>\n",
       "      <td>33</td>\n",
       "      <td>250</td>\n",
       "      <td>NaN</td>\n",
       "      <td>Continental</td>\n",
       "    </tr>\n",
       "    <tr>\n",
       "      <th>148431</th>\n",
       "      <td>LAZEEZ KITCHEN</td>\n",
       "      <td>Yavatmal</td>\n",
       "      <td>3.7</td>\n",
       "      <td>35</td>\n",
       "      <td>200</td>\n",
       "      <td>NaN</td>\n",
       "      <td>Pizzas</td>\n",
       "    </tr>\n",
       "  </tbody>\n",
       "</table>\n",
       "<p>148432 rows × 7 columns</p>\n",
       "</div>"
      ],
      "text/plain": [
       "                            name      city  rating  rating_count  cost  \\\n",
       "0                 AB FOODS POINT    Abohar     4.1            39   200   \n",
       "1              JANTA SWEET HOUSE    Abohar     4.4            90   200   \n",
       "2              THEKA COFFEE DESI    Abohar     3.8           445   100   \n",
       "3                      SINGH HUT    Abohar     3.7            35   250   \n",
       "4                  GRILL MASTERS    Abohar     4.1            40   250   \n",
       "...                          ...       ...     ...           ...   ...   \n",
       "148427          THE FOOD DELIGHT  Yavatmal     3.7            30   200   \n",
       "148428  MAITRI FOODS & BEVERAGES  Yavatmal     3.7            33   300   \n",
       "148429           CAFE BELLA CIAO  Yavatmal     3.7            32   300   \n",
       "148430               GRILL ZILLA  Yavatmal     3.7            33   250   \n",
       "148431            LAZEEZ KITCHEN  Yavatmal     3.7            35   200   \n",
       "\n",
       "       main_city           cuisine  \n",
       "0            NaN         Beverages  \n",
       "1            NaN            Sweets  \n",
       "2            NaN         Beverages  \n",
       "3            NaN         Fast Food  \n",
       "4            NaN  Italian-American  \n",
       "...          ...               ...  \n",
       "148427       NaN         Fast Food  \n",
       "148428       NaN            Pizzas  \n",
       "148429       NaN         Fast Food  \n",
       "148430       NaN       Continental  \n",
       "148431       NaN            Pizzas  \n",
       "\n",
       "[148432 rows x 7 columns]"
      ]
     },
     "execution_count": 63,
     "metadata": {},
     "output_type": "execute_result"
    }
   ],
   "source": [
    "import pandas as pd\n",
    "df=pd.read_csv(r'D:\\GuviProject4\\cleaned_data.csv')\n",
    "df"
   ]
  },
  {
   "cell_type": "code",
   "execution_count": 64,
   "id": "04bf0a84",
   "metadata": {},
   "outputs": [],
   "source": [
    "df['rating']=df['rating'].astype(int)"
   ]
  },
  {
   "cell_type": "code",
   "execution_count": 19,
   "id": "6bea08ed",
   "metadata": {},
   "outputs": [
    {
     "data": {
      "text/plain": [
       "<Axes: ylabel='rating_count'>"
      ]
     },
     "execution_count": 19,
     "metadata": {},
     "output_type": "execute_result"
    },
    {
     "data": {
      "image/png": "[encoded data removed]",
      "text/plain": [
       "<Figure size 640x480 with 1 Axes>"
      ]
     },
     "metadata": {},
     "output_type": "display_data"
    }
   ],
   "source": [
    "sns.boxplot(df.rating_count)"
   ]
  },
  {
   "cell_type": "code",
   "execution_count": 27,
   "id": "e8e395d1",
   "metadata": {},
   "outputs": [
    {
     "name": "stdout",
     "output_type": "stream",
     "text": [
      "quantile75: 182.0\n",
      "quantile25: 62.0\n",
      "iqr: 120.0\n"
     ]
    }
   ],
   "source": [
    "quantile75=df['rating_count'].quantile(0.75)\n",
    "quantile25=df['rating_count'].quantile(0.25)\n",
    "iqr=quantile75-quantile25\n",
    "print(f'quantile75: {quantile75}')\n",
    "print(f'quantile25: {quantile25}')\n",
    "print(f'iqr: {iqr}')"
   ]
  },
  {
   "cell_type": "code",
   "execution_count": 38,
   "id": "d09856ea",
   "metadata": {},
   "outputs": [
    {
     "data": {
      "text/plain": [
       "<Axes: ylabel='cost'>"
      ]
     },
     "execution_count": 38,
     "metadata": {},
     "output_type": "execute_result"
    },
    {
     "data": {
      "image/png": "[encoded data removed]",
      "text/plain": [
       "<Figure size 640x480 with 1 Axes>"
      ]
     },
     "metadata": {},
     "output_type": "display_data"
    }
   ],
   "source": [
    "sns.boxplot(df.cost)"
   ]
  },
  {
   "cell_type": "code",
   "execution_count": 65,
   "id": "6fb4656f",
   "metadata": {},
   "outputs": [
    {
     "name": "stdout",
     "output_type": "stream",
     "text": [
      "quantile75: 300.0\n",
      "quantile25: 200.0\n",
      "iqr: 100.0\n"
     ]
    }
   ],
   "source": [
    "quantile75=df['cost'].quantile(0.75)\n",
    "quantile25=df['cost'].quantile(0.25)\n",
    "iqr=quantile75-quantile25\n",
    "print(f'quantile75: {quantile75}')\n",
    "print(f'quantile25: {quantile25}')\n",
    "print(f'iqr: {iqr}')"
   ]
  },
  {
   "cell_type": "code",
   "execution_count": 66,
   "id": "95f3d970",
   "metadata": {},
   "outputs": [
    {
     "data": {
      "text/plain": [
       "name            214\n",
       "city            214\n",
       "rating          214\n",
       "rating_count    214\n",
       "cost            214\n",
       "main_city       142\n",
       "cuisine         214\n",
       "dtype: int64"
      ]
     },
     "execution_count": 66,
     "metadata": {},
     "output_type": "execute_result"
    }
   ],
   "source": [
    "df[df['cost']<20].count()"
   ]
  },
  {
   "cell_type": "code",
   "execution_count": 67,
   "id": "4b3440b3",
   "metadata": {},
   "outputs": [
    {
     "data": {
      "text/plain": [
       "name            40\n",
       "city            40\n",
       "rating          40\n",
       "rating_count    40\n",
       "cost            40\n",
       "main_city       34\n",
       "cuisine         40\n",
       "dtype: int64"
      ]
     },
     "execution_count": 67,
     "metadata": {},
     "output_type": "execute_result"
    }
   ],
   "source": [
    "df[df['cost']>2000].count()"
   ]
  },
  {
   "cell_type": "code",
   "execution_count": 68,
   "id": "5d093c38",
   "metadata": {},
   "outputs": [],
   "source": [
    "df=df[(df['cost']>20)&(df['cost']<2000)]"
   ]
  },
  {
   "cell_type": "code",
   "execution_count": 71,
   "id": "cba33e95",
   "metadata": {},
   "outputs": [
    {
     "data": {
      "text/plain": [
       "np.int64(19600)"
      ]
     },
     "execution_count": 71,
     "metadata": {},
     "output_type": "execute_result"
    }
   ],
   "source": [
    "df.rating_count.max()"
   ]
  },
  {
   "cell_type": "code",
   "execution_count": 75,
   "id": "cc4702ab",
   "metadata": {},
   "outputs": [],
   "source": [
    "df.to_csv('new_cleaned_data.csv',index=False)"
   ]
  },
  {
   "cell_type": "code",
   "execution_count": 77,
   "id": "e5ae1ffd",
   "metadata": {},
   "outputs": [
    {
     "name": "stderr",
     "output_type": "stream",
     "text": [
      "C:\\Users\\loges\\AppData\\Local\\Temp\\ipykernel_11524\\206989278.py:4: SettingWithCopyWarning: \n",
      "A value is trying to be set on a copy of a slice from a DataFrame.\n",
      "Try using .loc[row_indexer,col_indexer] = value instead\n",
      "\n",
      "See the caveats in the documentation: https://pandas.pydata.org/pandas-docs/stable/user_guide/indexing.html#returning-a-view-versus-a-copy\n",
      "  df['main_city']=ohe.fit_transform(df[['main_city']])\n",
      "C:\\Users\\loges\\AppData\\Local\\Temp\\ipykernel_11524\\206989278.py:5: SettingWithCopyWarning: \n",
      "A value is trying to be set on a copy of a slice from a DataFrame.\n",
      "Try using .loc[row_indexer,col_indexer] = value instead\n",
      "\n",
      "See the caveats in the documentation: https://pandas.pydata.org/pandas-docs/stable/user_guide/indexing.html#returning-a-view-versus-a-copy\n",
      "  df['city']=ohe.fit_transform(df[['city']])\n",
      "C:\\Users\\loges\\AppData\\Local\\Temp\\ipykernel_11524\\206989278.py:6: SettingWithCopyWarning: \n",
      "A value is trying to be set on a copy of a slice from a DataFrame.\n",
      "Try using .loc[row_indexer,col_indexer] = value instead\n",
      "\n",
      "See the caveats in the documentation: https://pandas.pydata.org/pandas-docs/stable/user_guide/indexing.html#returning-a-view-versus-a-copy\n",
      "  df['cuisine']=ohe.fit_transform(df[['cuisine']])\n",
      "C:\\Users\\loges\\AppData\\Local\\Temp\\ipykernel_11524\\206989278.py:7: SettingWithCopyWarning: \n",
      "A value is trying to be set on a copy of a slice from a DataFrame.\n",
      "Try using .loc[row_indexer,col_indexer] = value instead\n",
      "\n",
      "See the caveats in the documentation: https://pandas.pydata.org/pandas-docs/stable/user_guide/indexing.html#returning-a-view-versus-a-copy\n",
      "  df['name']=le.fit_transform(df['name'])+1\n"
     ]
    }
   ],
   "source": [
    "from sklearn.preprocessing import OneHotEncoder,LabelEncoder\n",
    "ohe=OneHotEncoder(sparse_output=False,handle_unknown='ignore')\n",
    "le=LabelEncoder()\n",
    "df['main_city']=ohe.fit_transform(df[['main_city']])\n",
    "df['city']=ohe.fit_transform(df[['city']])\n",
    "df['cuisine']=ohe.fit_transform(df[['cuisine']])\n",
    "df['name']=le.fit_transform(df['name'])+1\n"
   ]
  },
  {
   "cell_type": "code",
   "execution_count": 79,
   "id": "d26dc395",
   "metadata": {},
   "outputs": [],
   "source": [
    "import pickle\n",
    "with open('ohe.pkl','wb') as file:\n",
    "    pickle.dump(ohe,file)"
   ]
  },
  {
   "cell_type": "code",
   "execution_count": 81,
   "id": "479077ed",
   "metadata": {},
   "outputs": [],
   "source": [
    "with open('le.pkl','wb') as file:\n",
    "    pickle.dump(le,file)"
   ]
  },
  {
   "cell_type": "code",
   "execution_count": 84,
   "id": "0ce9ed24",
   "metadata": {},
   "outputs": [],
   "source": [
    "df.to_csv('new_encoded_data.csv',index=False)"
   ]
  },
  {
   "cell_type": "code",
   "execution_count": 86,
   "id": "c4cfffe5",
   "metadata": {},
   "outputs": [
    {
     "name": "stdout",
     "output_type": "stream",
     "text": [
      "True\n"
     ]
    }
   ],
   "source": [
    "df1=pd.read_csv(r'D:\\GuviProject4\\new_cleaned_data.csv')\n",
    "df2=pd.read_csv(r'D:\\GuviProject4\\new_encoded_data.csv')\n",
    "print(df1.shape[0]==df2.shape[0])"
   ]
  }
 ],
 "metadata": {
  "kernelspec": {
   "display_name": "Python 3",
   "language": "python",
   "name": "python3"
  },
  "language_info": {
   "codemirror_mode": {
    "name": "ipython",
    "version": 3
   },
   "file_extension": ".py",
   "mimetype": "text/x-python",
   "name": "python",
   "nbconvert_exporter": "python",
   "pygments_lexer": "ipython3",
   "version": "3.12.8"
  }
 },
 "nbformat": 4,
 "nbformat_minor": 5
}
